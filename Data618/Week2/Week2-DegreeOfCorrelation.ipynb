{
 "cells": [
  {
   "cell_type": "markdown",
   "id": "cec6ebd7",
   "metadata": {},
   "source": [
    "# CUNY MSDS DATA618 - Quantative Finance\n",
    "\n",
    "## Week 2 \n",
    "\n",
    "### Description\n",
    "\n",
    "1. Read the attached article by Villalta and Whitwell\n",
    "\n",
    "2. Download the U.S. GDP Growth Rate 1961 - 2022 dataset from (https://www.macrotrends.net/countries/USA/united-states/gdp-growth-rate)\n",
    "\n",
    "3. Download the Federal Funds Effective Rate dataset from (https://fred.stlouisfed.org/series/FEDFUNDS)\n",
    "\n",
    "4. Determine the degree of correlation (or negative correlation) between these two data sets (hints on Correlation of Two Variables in a Time Series in Python - https://stackoverflow.com/questions/4809577/correlation-of-two-variables-in-a-time-series-in-python) [N.b.: Use of Python for this analysis is recommended but not required]\n",
    "\n",
    "5. Download the Bureau of Labor Statistics Consumer Price Index Dataset from https://www.usinflationcalculator.com/inflation/consumer-price-index-and-annual-percent-changes-from-1913-to-2008/ and determine the correlation (or negative correlation) between the annual inflation rate and the Feds Fund Rate.\n",
    "\n",
    "6. Post your conclusions from this analysis regarding Villalt and Whitwell assertions regarding Economically Sensitive Exposures, Interest Rate Sensitive Exposures and the actions of the FED. on the Discussion Board and respond to the postings of others."
   ]
  },
  {
   "cell_type": "code",
   "execution_count": 99,
   "id": "124fc627",
   "metadata": {},
   "outputs": [],
   "source": [
    "# Import required libraries & packages\n",
    "import pandas as pd\n",
    "import matplotlib.pyplot as plt\n",
    "from matplotlib import pyplot\n",
    "pd.set_option('mode.chained_assignment', None)"
   ]
  },
  {
   "cell_type": "markdown",
   "id": "5b07d20e",
   "metadata": {},
   "source": [
    "Data Sourcing:\n",
    "Load U.S. GDP Growth Rate 1961 - 2022 from CSV file to a DataFrame. Data is in CSV (Comma separated value) format and to access it over the net. This file is saved on network. Top 16 rows are ignored, given these rows are not actually data rows. Index is set to date field to sort rest of the columns based on the date.\n",
    "This data set has 3 columns - 1. Date 2. GDP Growth (%), 3.\tAnnual Change in GDP Growth (%)"
   ]
  },
  {
   "cell_type": "code",
   "execution_count": 100,
   "id": "fdbf10b2",
   "metadata": {},
   "outputs": [],
   "source": [
    "gdp_growth = pd.read_csv(\"https://raw.githubusercontent.com/rnivas2028/MSDS/main/Data618/Week2/united-states-gdp-growth-rate.csv\",\n",
    "                     skiprows = 16,parse_dates = ['date']).set_index('date', inplace = False)"
   ]
  },
  {
   "cell_type": "code",
   "execution_count": 101,
   "id": "283f9ebd",
   "metadata": {},
   "outputs": [
    {
     "data": {
      "text/html": [
       "<div>\n",
       "<style scoped>\n",
       "    .dataframe tbody tr th:only-of-type {\n",
       "        vertical-align: middle;\n",
       "    }\n",
       "\n",
       "    .dataframe tbody tr th {\n",
       "        vertical-align: top;\n",
       "    }\n",
       "\n",
       "    .dataframe thead th {\n",
       "        text-align: right;\n",
       "    }\n",
       "</style>\n",
       "<table border=\"1\" class=\"dataframe\">\n",
       "  <thead>\n",
       "    <tr style=\"text-align: right;\">\n",
       "      <th></th>\n",
       "      <th>GDP Growth (%)</th>\n",
       "      <th>Annual Change</th>\n",
       "      <th></th>\n",
       "    </tr>\n",
       "    <tr>\n",
       "      <th>date</th>\n",
       "      <th></th>\n",
       "      <th></th>\n",
       "      <th></th>\n",
       "    </tr>\n",
       "  </thead>\n",
       "  <tbody>\n",
       "    <tr>\n",
       "      <th>1961-12-31</th>\n",
       "      <td>2.3</td>\n",
       "      <td>NaN</td>\n",
       "      <td>NaN</td>\n",
       "    </tr>\n",
       "    <tr>\n",
       "      <th>1962-12-31</th>\n",
       "      <td>6.1</td>\n",
       "      <td>3.8</td>\n",
       "      <td>NaN</td>\n",
       "    </tr>\n",
       "    <tr>\n",
       "      <th>1963-12-31</th>\n",
       "      <td>4.4</td>\n",
       "      <td>-1.7</td>\n",
       "      <td>NaN</td>\n",
       "    </tr>\n",
       "    <tr>\n",
       "      <th>1964-12-31</th>\n",
       "      <td>5.8</td>\n",
       "      <td>1.4</td>\n",
       "      <td>NaN</td>\n",
       "    </tr>\n",
       "    <tr>\n",
       "      <th>1965-12-31</th>\n",
       "      <td>6.4</td>\n",
       "      <td>0.6</td>\n",
       "      <td>NaN</td>\n",
       "    </tr>\n",
       "  </tbody>\n",
       "</table>\n",
       "</div>"
      ],
      "text/plain": [
       "             GDP Growth (%)   Annual Change    \n",
       "date                                           \n",
       "1961-12-31              2.3             NaN NaN\n",
       "1962-12-31              6.1             3.8 NaN\n",
       "1963-12-31              4.4            -1.7 NaN\n",
       "1964-12-31              5.8             1.4 NaN\n",
       "1965-12-31              6.4             0.6 NaN"
      ]
     },
     "execution_count": 101,
     "metadata": {},
     "output_type": "execute_result"
    }
   ],
   "source": [
    "gdp_growth.head()"
   ]
  },
  {
   "cell_type": "markdown",
   "id": "38290510",
   "metadata": {},
   "source": [
    "Let’s create a Time Series plot of GDP Growth (%) and Annual Change. We can see trend of increasing and decreasing of GDP Growth, perhaps there is overall trend of decreasing GDP Growth. Year 1985 shows highest GDP Growth whereas year 1982 shows negative trend. Also, year 2019 shows negative trend which may be due to Covid-19. Annual change in GDP growth is linked with GDP Growth for most of the year."
   ]
  },
  {
   "cell_type": "code",
   "execution_count": 102,
   "id": "8edc0d18",
   "metadata": {},
   "outputs": [
    {
     "data": {
      "text/plain": [
       "<AxesSubplot:xlabel='date'>"
      ]
     },
     "execution_count": 102,
     "metadata": {},
     "output_type": "execute_result"
    },
    {
     "data": {
      "image/png": "[encoded data removed]",
      "text/plain": [
       "<Figure size 432x288 with 1 Axes>"
      ]
     },
     "metadata": {
      "needs_background": "light"
     },
     "output_type": "display_data"
    }
   ],
   "source": [
    "gdp_growth.plot()"
   ]
  },
  {
   "cell_type": "markdown",
   "id": "8f33826b",
   "metadata": {},
   "source": [
    "Let’s load Federal Funds Effective Rate data from the network. This data set is also on the network. This data file has data starting from 1951. Our interest is to analyze data from 1961 to 2021 so let’s filter the data from 1951 to 1960. Also, DATE filed is set as index field to short data in a timeseries. \n",
    "\n",
    "This dataset is time series data. Also let’s create yearly average based on the monthly data provided in the dataset"
   ]
  },
  {
   "cell_type": "code",
   "execution_count": 103,
   "id": "717aafc1",
   "metadata": {},
   "outputs": [
    {
     "data": {
      "text/html": [
       "<div>\n",
       "<style scoped>\n",
       "    .dataframe tbody tr th:only-of-type {\n",
       "        vertical-align: middle;\n",
       "    }\n",
       "\n",
       "    .dataframe tbody tr th {\n",
       "        vertical-align: top;\n",
       "    }\n",
       "\n",
       "    .dataframe thead th {\n",
       "        text-align: right;\n",
       "    }\n",
       "</style>\n",
       "<table border=\"1\" class=\"dataframe\">\n",
       "  <thead>\n",
       "    <tr style=\"text-align: right;\">\n",
       "      <th></th>\n",
       "      <th>FEDFUNDS</th>\n",
       "    </tr>\n",
       "    <tr>\n",
       "      <th>DATE</th>\n",
       "      <th></th>\n",
       "    </tr>\n",
       "  </thead>\n",
       "  <tbody>\n",
       "    <tr>\n",
       "      <th>1961-12-31</th>\n",
       "      <td>1.955000</td>\n",
       "    </tr>\n",
       "    <tr>\n",
       "      <th>1962-12-31</th>\n",
       "      <td>2.708333</td>\n",
       "    </tr>\n",
       "    <tr>\n",
       "      <th>1963-12-31</th>\n",
       "      <td>3.178333</td>\n",
       "    </tr>\n",
       "    <tr>\n",
       "      <th>1964-12-31</th>\n",
       "      <td>3.496667</td>\n",
       "    </tr>\n",
       "    <tr>\n",
       "      <th>1965-12-31</th>\n",
       "      <td>4.075000</td>\n",
       "    </tr>\n",
       "  </tbody>\n",
       "</table>\n",
       "</div>"
      ],
      "text/plain": [
       "            FEDFUNDS\n",
       "DATE                \n",
       "1961-12-31  1.955000\n",
       "1962-12-31  2.708333\n",
       "1963-12-31  3.178333\n",
       "1964-12-31  3.496667\n",
       "1965-12-31  4.075000"
      ]
     },
     "execution_count": 103,
     "metadata": {},
     "output_type": "execute_result"
    }
   ],
   "source": [
    "fed_funds = pd.read_csv('https://raw.githubusercontent.com/rnivas2028/MSDS/main/Data618/Week2/FEDFUNDS.csv')\n",
    "fed_funds['DATE']= pd.to_datetime(fed_funds['DATE'])\n",
    "fed_funds = (fed_funds[(fed_funds['DATE'] > '1960-12-31') & (fed_funds['DATE'] < '2022-01-01')]).set_index('DATE', inplace = False).resample('1Y', closed = 'right').mean()\n",
    "fed_funds.head()"
   ]
  },
  {
   "cell_type": "markdown",
   "id": "40423533",
   "metadata": {},
   "source": [
    "Let’s plot the data to understand the pattern. By plotting the data, we found Federal Funds Effective Rate were high around 1980. \n",
    "There was an increment trend prior to 1980 and declining trend afterwards. Current trend shows decreasing Federal Funds Effective Rate. Around 1980 rate was around 16%"
   ]
  },
  {
   "cell_type": "code",
   "execution_count": 104,
   "id": "fbcf0236",
   "metadata": {},
   "outputs": [
    {
     "data": {
      "text/plain": [
       "<AxesSubplot:xlabel='DATE'>"
      ]
     },
     "execution_count": 104,
     "metadata": {},
     "output_type": "execute_result"
    },
    {
     "data": {
      "image/png": "[encoded data removed]",
      "text/plain": [
       "<Figure size 432x288 with 1 Axes>"
      ]
     },
     "metadata": {
      "needs_background": "light"
     },
     "output_type": "display_data"
    }
   ],
   "source": [
    "fed_funds.plot()"
   ]
  },
  {
   "cell_type": "markdown",
   "id": "d6b97b2a",
   "metadata": {},
   "source": [
    "It can be useful in data analysis and modeling to better understand the relationships between variables. The statistical relationship between two variables is referred to as their correlation.\n",
    "\n",
    "A correlation could be positive, meaning both variables move in the same direction, or negative, meaning that when one variable’s value increases, the other variables’ values decrease. Correlation can also be neutral or zero, meaning that the variables are unrelated.\n",
    "\n",
    "__Positive Correlation__: both variables change in the same direction. The y values tend to increase as the x values increase. This illustrates strong positive correlation, which occurs when large values of one feature correspond to large values of the other, and vice versa.\n",
    "\n",
    "__Neutral Correlation__: No relationship in the change of the variables. This is a form of weak correlation, which occurs when an association between two features is not obvious or is hardly observable.\n",
    "\n",
    "__Negative Correlation__: variables change in opposite directions. The y values tend to decrease as the x values increase. This shows strong negative correlation, which occurs when large values of one feature correspond to small values of the other, and vice versa.\n",
    "\n",
    "Let’s create a new dataframe to calculate ad analyze Degree of correlation. This analysis is to show correlation between GDP Growth(%) and Fed Funds Rate"
   ]
  },
  {
   "cell_type": "code",
   "execution_count": 105,
   "id": "f4a1ab0f",
   "metadata": {},
   "outputs": [],
   "source": [
    "selected = pd.DataFrame(zip(gdp_growth[' GDP Growth (%)'],fed_funds['FEDFUNDS']),columns=['GDP Growth(%)','Fed Funds Rate'])"
   ]
  },
  {
   "cell_type": "code",
   "execution_count": 106,
   "id": "497a7d1f",
   "metadata": {
    "scrolled": false
   },
   "outputs": [
    {
     "data": {
      "text/plain": [
       "<AxesSubplot:>"
      ]
     },
     "execution_count": 106,
     "metadata": {},
     "output_type": "execute_result"
    },
    {
     "data": {
      "image/png": "[encoded data removed]",
      "text/plain": [
       "<Figure size 432x288 with 1 Axes>"
      ]
     },
     "metadata": {
      "needs_background": "light"
     },
     "output_type": "display_data"
    }
   ],
   "source": [
    "selected.plot()"
   ]
  },
  {
   "cell_type": "markdown",
   "id": "869d74c1",
   "metadata": {},
   "source": [
    "This plot shows almost a neutral trend of GDP Growth(%) and Fed Funds Rate. We can see Fed Funds Rate goes up and GDP Growth goes down and vice-versa.\n",
    "We can see both GDP Growth(%) and Fed Funds Rate increased or decreased together also. However, we will analyze it by calculating the Correlation.\n",
    "\n",
    "Lets use Correlation function from pandas package to find Correlation in this dataset."
   ]
  },
  {
   "cell_type": "code",
   "execution_count": 107,
   "id": "07693080",
   "metadata": {},
   "outputs": [
    {
     "data": {
      "text/html": [
       "<div>\n",
       "<style scoped>\n",
       "    .dataframe tbody tr th:only-of-type {\n",
       "        vertical-align: middle;\n",
       "    }\n",
       "\n",
       "    .dataframe tbody tr th {\n",
       "        vertical-align: top;\n",
       "    }\n",
       "\n",
       "    .dataframe thead th {\n",
       "        text-align: right;\n",
       "    }\n",
       "</style>\n",
       "<table border=\"1\" class=\"dataframe\">\n",
       "  <thead>\n",
       "    <tr style=\"text-align: right;\">\n",
       "      <th></th>\n",
       "      <th>GDP Growth(%)</th>\n",
       "      <th>Fed Funds Rate</th>\n",
       "    </tr>\n",
       "  </thead>\n",
       "  <tbody>\n",
       "    <tr>\n",
       "      <th>GDP Growth(%)</th>\n",
       "      <td>1.000000</td>\n",
       "      <td>0.069789</td>\n",
       "    </tr>\n",
       "    <tr>\n",
       "      <th>Fed Funds Rate</th>\n",
       "      <td>0.069789</td>\n",
       "      <td>1.000000</td>\n",
       "    </tr>\n",
       "  </tbody>\n",
       "</table>\n",
       "</div>"
      ],
      "text/plain": [
       "                GDP Growth(%)  Fed Funds Rate\n",
       "GDP Growth(%)        1.000000        0.069789\n",
       "Fed Funds Rate       0.069789        1.000000"
      ]
     },
     "execution_count": 107,
     "metadata": {},
     "output_type": "execute_result"
    }
   ],
   "source": [
    "selected.corr()"
   ]
  },
  {
   "cell_type": "markdown",
   "id": "df030c3a",
   "metadata": {},
   "source": [
    "Positive factional value(0.069789) shows no correlation or a positive but marginal correlation. So most of the time when Fed Funds Rate goes up and GDP Growth goes down and vice-versa.\n",
    "We can see both GDP Growth(%) and Fed Funds Rate increased or decreased together but only in few times."
   ]
  },
  {
   "cell_type": "markdown",
   "id": "1b83e725",
   "metadata": {},
   "source": [
    "### Degree of correlation (Annual Change in GDP Growth(%) and Fed Funds Rate)\n",
    "\n",
    "Lets create a new dataframe to calculate ad analyze Degree of correlation. This analysis is to show correlation between Annual Change in GDP Growth and Fed Funds Rate.\n",
    "Lets create a new dataframe to analyze this time series data"
   ]
  },
  {
   "cell_type": "code",
   "execution_count": 108,
   "id": "b385bf17",
   "metadata": {},
   "outputs": [],
   "source": [
    "selected = pd.DataFrame(zip(gdp_growth[' Annual Change'],fed_funds['FEDFUNDS']),columns=['Annual Change in GDP Growth','Feds Fund Rate'])"
   ]
  },
  {
   "cell_type": "markdown",
   "id": "f5c218ca",
   "metadata": {},
   "source": [
    "This plot shows a negative trend of increasing Annual Change in GDP Growth(%) and Fed Funds Rate. We can see Fed Funds Rate goes up and GDP Growth goes down and vice-versa.\n",
    "We have not seen both GDP Growth(%) and Fed Funds Rate increased or decreased together. A sharp trend can be seen Fed Funds Rate is over 16% but GDP Growth is negative.\n",
    "At rate of interest around 0, GDP Growth(%) shows sign of positive trend.\n",
    "\n",
    "However we will analyze it by calculating the Correlation between GDP Growth(%) and Fed Funds Rate."
   ]
  },
  {
   "cell_type": "code",
   "execution_count": 109,
   "id": "962b6aad",
   "metadata": {},
   "outputs": [
    {
     "data": {
      "text/plain": [
       "<AxesSubplot:>"
      ]
     },
     "execution_count": 109,
     "metadata": {},
     "output_type": "execute_result"
    },
    {
     "data": {
      "image/png": "[encoded data removed]",
      "text/plain": [
       "<Figure size 432x288 with 1 Axes>"
      ]
     },
     "metadata": {
      "needs_background": "light"
     },
     "output_type": "display_data"
    }
   ],
   "source": [
    "selected.plot()"
   ]
  },
  {
   "cell_type": "code",
   "execution_count": 110,
   "id": "acc40634",
   "metadata": {},
   "outputs": [
    {
     "data": {
      "text/html": [
       "<div>\n",
       "<style scoped>\n",
       "    .dataframe tbody tr th:only-of-type {\n",
       "        vertical-align: middle;\n",
       "    }\n",
       "\n",
       "    .dataframe tbody tr th {\n",
       "        vertical-align: top;\n",
       "    }\n",
       "\n",
       "    .dataframe thead th {\n",
       "        text-align: right;\n",
       "    }\n",
       "</style>\n",
       "<table border=\"1\" class=\"dataframe\">\n",
       "  <thead>\n",
       "    <tr style=\"text-align: right;\">\n",
       "      <th></th>\n",
       "      <th>Annual Change in GDP Growth</th>\n",
       "      <th>Feds Fund Rate</th>\n",
       "    </tr>\n",
       "  </thead>\n",
       "  <tbody>\n",
       "    <tr>\n",
       "      <th>Annual Change in GDP Growth</th>\n",
       "      <td>1.00000</td>\n",
       "      <td>-0.17633</td>\n",
       "    </tr>\n",
       "    <tr>\n",
       "      <th>Feds Fund Rate</th>\n",
       "      <td>-0.17633</td>\n",
       "      <td>1.00000</td>\n",
       "    </tr>\n",
       "  </tbody>\n",
       "</table>\n",
       "</div>"
      ],
      "text/plain": [
       "                             Annual Change in GDP Growth  Feds Fund Rate\n",
       "Annual Change in GDP Growth                      1.00000        -0.17633\n",
       "Feds Fund Rate                                  -0.17633         1.00000"
      ]
     },
     "execution_count": 110,
     "metadata": {},
     "output_type": "execute_result"
    }
   ],
   "source": [
    "selected.corr()"
   ]
  },
  {
   "cell_type": "markdown",
   "id": "3db70e09",
   "metadata": {},
   "source": [
    "We have calculated Correlation and found negative Correlation (Feds Fund Rate -0.17633). A negative correlation is a relationship between two variables in which the increase in one variable leads to a decrease in the other which we see here in GDP Growth(%) and Fed Funds Rate trends. \n",
    "\n",
    "We have not seen both GDP Growth(%) and Fed Funds Rate increased or decreased together. We can see Fed Funds Rate goes up and GDP Growth goes down and vice-versa."
   ]
  },
  {
   "cell_type": "markdown",
   "id": "8aa11e06",
   "metadata": {},
   "source": [
    "### Degree of correlation (Inflation and Fed Funds Rate)\n",
    "Lets download the Bureau of Labor Statistics Consumer Price Index Dataset from the site\n",
    "https://www.usinflationcalculator.com/inflation/consumer-price-index-and-annual-percent-changes-from-1913-to-2008/\n",
    "\n",
    "Lets load the dataset. This dataset is a time series data."
   ]
  },
  {
   "cell_type": "code",
   "execution_count": 111,
   "id": "7461a0d3",
   "metadata": {},
   "outputs": [],
   "source": [
    "cpi = pd.read_csv(\"https://raw.githubusercontent.com/rnivas2028/MSDS/main/Data618/Week2/cpi.csv\",\n",
    "                     skiprows = 1)"
   ]
  },
  {
   "cell_type": "code",
   "execution_count": 112,
   "id": "c6b94761",
   "metadata": {},
   "outputs": [
    {
     "data": {
      "text/plain": [
       "<bound method NDFrame.head of      Year      Jan      Feb      Mar      Apr      May     June     July  \\\n",
       "0    1913    9.800    9.800    9.800    9.800    9.700    9.800    9.900   \n",
       "1    1914   10.000    9.900    9.900    9.800    9.900    9.900   10.000   \n",
       "2    1915   10.100   10.000    9.900   10.000   10.100   10.100   10.100   \n",
       "3    1916   10.400   10.400   10.500   10.600   10.700   10.800   10.800   \n",
       "4    1917   11.700   12.000   12.000   12.600   12.800   13.000   12.800   \n",
       "..    ...      ...      ...      ...      ...      ...      ...      ...   \n",
       "104  2017  242.839  243.603  243.801  244.524  244.733  244.955  244.786   \n",
       "105  2018  247.867  248.991  249.554  250.546  251.588  251.989  252.006   \n",
       "106  2019  251.712  252.776  254.202  255.548  256.092  256.143  256.571   \n",
       "107  2020  257.971  258.678  258.115  256.389  256.394  257.797  259.101   \n",
       "108  2021  261.582  263.014  264.877  267.054  269.195  271.696  273.003   \n",
       "\n",
       "         Aug      Sep      Oct      Nov      Dec      Avg Dec-Dec Avg-Avg  \n",
       "0      9.900   10.000   10.000   10.100   10.000    9.900       ?       ?  \n",
       "1     10.200   10.200   10.100   10.200   10.100   10.000       1       1  \n",
       "2     10.100   10.100   10.200   10.300   10.300   10.100       2       1  \n",
       "3     10.900   11.100   11.300   11.500   11.600   10.900    12.6     7.9  \n",
       "4     13.000   13.300   13.500   13.500   13.700   12.800    18.1    17.4  \n",
       "..       ...      ...      ...      ...      ...      ...     ...     ...  \n",
       "104  245.519  246.819  246.663  246.669  246.524  245.120     2.1     2.1  \n",
       "105  252.146  252.439  252.885  252.038  251.233  251.107     1.9     2.4  \n",
       "106  256.558  256.759  257.346  257.208  256.974  255.657     2.3     1.8  \n",
       "107  259.918  260.280  260.388  260.229  260.474  258.811     1.4     1.2  \n",
       "108  273.567  274.310  276.589  277.948  278.802  270.970       7     4.7  \n",
       "\n",
       "[109 rows x 16 columns]>"
      ]
     },
     "execution_count": 112,
     "metadata": {},
     "output_type": "execute_result"
    }
   ],
   "source": [
    "cpi.head"
   ]
  },
  {
   "cell_type": "code",
   "execution_count": 113,
   "id": "6e9730cd",
   "metadata": {},
   "outputs": [
    {
     "ename": "SyntaxError",
     "evalue": "invalid syntax (Temp/ipykernel_101820/3664886160.py, line 1)",
     "output_type": "error",
     "traceback": [
      "\u001b[1;36m  File \u001b[1;32m\"C:\\Users\\Ram\\AppData\\Local\\Temp/ipykernel_101820/3664886160.py\"\u001b[1;36m, line \u001b[1;32m1\u001b[0m\n\u001b[1;33m    Also filter the data prior to 1961 because Fed Funds Rate is only available after year 1960\u001b[0m\n\u001b[1;37m         ^\u001b[0m\n\u001b[1;31mSyntaxError\u001b[0m\u001b[1;31m:\u001b[0m invalid syntax\n"
     ]
    }
   ],
   "source": [
    " Also filter the data prior to 1961 because Fed Funds Rate is only available after year 1960"
   ]
  },
  {
   "cell_type": "code",
   "execution_count": null,
   "id": "c115b7bc",
   "metadata": {},
   "outputs": [],
   "source": [
    "cpi_avg=(cpi.iloc[:, [0, 13]])\n",
    "cpi_avg.Year=pd.to_datetime(cpi_avg.Year, format='%Y')\n",
    "cpi_avg = (cpi_avg[(cpi_avg['Year'] > '1960-12-31') & (cpi_avg['Year'] < '2022-01-01')]).set_index('Year', inplace = False)\n",
    "cpi_avg.head()"
   ]
  },
  {
   "cell_type": "markdown",
   "id": "2d25a45a",
   "metadata": {},
   "source": [
    "Lets analyze the trend first. Inflation shows trend of going up as we can see in the plot."
   ]
  },
  {
   "cell_type": "code",
   "execution_count": null,
   "id": "96f8f520",
   "metadata": {},
   "outputs": [],
   "source": [
    "cpi_avg.plot()"
   ]
  },
  {
   "cell_type": "markdown",
   "id": "0d95edf0",
   "metadata": {},
   "source": [
    "We have create a new dataframe with two columns from two different datasets - Avg column from Labor Statistics Consumer Price Index Dataset and Feds Fund Rate from federal dataset "
   ]
  },
  {
   "cell_type": "code",
   "execution_count": null,
   "id": "cf63d104",
   "metadata": {},
   "outputs": [],
   "source": [
    "selected=pd.DataFrame(zip(cpi_avg['Avg'],fed_funds['FEDFUNDS']),columns=['Annual Inflation Rate','Feds Fund Rate'])\n",
    "selected.head()"
   ]
  },
  {
   "cell_type": "code",
   "execution_count": null,
   "id": "9efa3968",
   "metadata": {},
   "outputs": [],
   "source": [
    "selected.plot()"
   ]
  },
  {
   "cell_type": "code",
   "execution_count": null,
   "id": "f461fcef",
   "metadata": {},
   "outputs": [],
   "source": [
    "selected.corr()"
   ]
  },
  {
   "cell_type": "markdown",
   "id": "4aee70de",
   "metadata": {},
   "source": [
    "As we can see this is case of negative Correlation which we saw in the trend also. Annual inflation shows increasing trend whereas Fed fund rate shows almost in positive trend, however there is a declined trend."
   ]
  },
  {
   "cell_type": "markdown",
   "id": "88034fa1",
   "metadata": {},
   "source": [
    "### Conclusion\n",
    "\n",
    "Correlation is the measure of how two or more variables are related to one another, also referred to as linear dependence. An increase in demand for a product increases its price, also called the demand curve, traffic on roads at certain intervals of time of the day, the amount of rain correlates with grass fires.\n",
    "\n",
    "The correlation coeffient shows how strong the linear relationship between two variables is. If the correlation is positive, that means both the variables are moving in same direction. Negative correlation implies, when one variable increases the other variable decreases. If the correlation is +/- 0.8 and above, high degree of correlation or the association between the dependent variables are strong. correlation between +/- 0.5 to+/_0.8, sufficient degree of correlation and less than +/-0.5, weak correlation\n",
    "\n",
    "As we show in Degree of correlation (GDP Growth(%) and Fed Funds Rate) calculation:\n",
    "\n",
    "a) Positive fractional value(0.069789) shows no correlation or a positive but marginal correlation. We can see both GDP Growth(%) and Fed Funds Rate increased or decreased together but only in few times So most of the time when Fed Funds Rate goes up and GDP Growth goes down and vice-versa.\n",
    "\n",
    "b) A negative correlation is a relationship between two variables in which the increase in one variable leads to a decrease in the other which we see here in GDP Growth(%) and Fed Funds Rate trends. Degree of correlation (Annual Change in GDP Growth(%) and Fed Funds Rate). We have calculated Correlation and found negative Correlation (Feds Fund Rate -0.17633).\n",
    "\n",
    "c) A negative Correlation which we saw in the trend also. Annual inflation shows an increasing trend whereas Fed fund rate shows an almost in a positive trend, however, there is a declining trend.\n"
   ]
  },
  {
   "cell_type": "markdown",
   "id": "a0178247",
   "metadata": {},
   "source": [
    "##### References\n",
    "\n",
    "https://www.macrotrends.net/countries/USA/united-states/gdp-growth-rate\n",
    "\n",
    "https://fred.stlouisfed.org/series/FEDFUNDS \n",
    "\n",
    "https://www.usinflationcalculator.com/inflation/consumer-price-index-and-annual-percent-changes-from-1913-to-2008/ \n",
    "\n",
    "https://www.researchgate.net/\n",
    "\n",
    "\n",
    "\n"
   ]
  }
 ],
 "metadata": {
  "kernelspec": {
   "display_name": "Python 3 (ipykernel)",
   "language": "python",
   "name": "python3"
  },
  "language_info": {
   "codemirror_mode": {
    "name": "ipython",
    "version": 3
   },
   "file_extension": ".py",
   "mimetype": "text/x-python",
   "name": "python",
   "nbconvert_exporter": "python",
   "pygments_lexer": "ipython3",
   "version": "3.9.7"
  }
 },
 "nbformat": 4,
 "nbformat_minor": 5
}

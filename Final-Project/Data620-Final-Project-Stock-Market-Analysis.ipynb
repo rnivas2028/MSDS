{
 "cells": [
  {
   "cell_type": "markdown",
   "metadata": {},
   "source": [
    "\n",
    "# CUNY MSDS DATA620 - Web Analytics\n",
    "\n",
    "# Project 4 | Stock Market Prediction using Social Network Analysis\n",
    "## Prof: Alain Ledonwong\n",
    "## Team1 : Tage Singh, Deepak Sharma, Ramnivas Singh\n"
   ]
  },
  {
   "cell_type": "markdown",
   "metadata": {},
   "source": [
    "## Objective\n",
    "Project should incorporate one or both of the two main themes of this course: network analysis and text processing. \n",
    "Show all of work in a coherent workflow, and in a reproducible format, such as an IPython Notebook or an R Markdown document. If building a model or models, explain how  evaluate the “goodness” of the chosen model and parameters. \n",
    "\n",
    "\n",
    "## Introduction\n",
    "\n",
    "The prediction of stock markets is regarded as a challenging task.The stock market is the most popular investing places for the users. Because of its expected high profit. Recently forecasting stock market returns gaining more attention.  \n",
    "\n",
    "Data analysis is the way of predicting future value if future stocks prices will increase or decrease. The main objective of this project is to analyze price movement with the sentiments (tweets). \n",
    "\n",
    "We have used Text Classification method for sentiment analysis.\n",
    "\n",
    "## Analysis Questions\n",
    "\n",
    "1.\tHow can classification method be enhanced for more accuracy of tweets?\n",
    "2.\tHow can classification method describe the relationship between twitter sentiments and the stock market movement?\n",
    "3.\tIs it possible to develop a tweet classification system that can analyze tweets for stock market prediction?\n",
    "\n",
    "\n",
    "## Implementation Steps\n",
    "- Scraping News from Website of Nasdaq site and apply NLP to extract required information\n",
    "- Use natural language processing function like tokenize to parse test\n",
    "- Use Social network analysis concepts to mine and generate graph dataset\n",
    "- To use island method to create network graph for analysis\n",
    "- Correlate centrality measures with the stock price movements\n",
    "\n",
    "## Data source:\n",
    "- The first data for this application contains total 46 cases of positive and negative definition from the web http://positivewordsresearch.com/sentiment-analysis-resources/#content \n",
    "- Second data contains total 3389 cases of positive and negative definition from Twitter \n",
    "- The dataset is the latest news for the specific required stock shares or index. https://www.nasdaq.com\n",
    "- The dataset of stock close price is from scraping the website of yahoo.\n",
    "- [Twitter Sentiment](https://twitter.com) - A _term > sentiment-score_, cases of positive and negative words \n",
    "- [Nasdaq News](https://www.nasdaq.com/symbol/aapl/news-headlines) Scraped the latest news for items in the portfolio\n",
    "- [Yahoo Stock Prices](https://finance.yahoo.com/quote/) Manually downloaded historical price information"
   ]
  },
  {
   "cell_type": "code",
   "execution_count": 1,
   "metadata": {},
   "outputs": [],
   "source": [
    "import numpy as np\n",
    "import networkx as nx\n",
    "from networkx.algorithms import bipartite\n",
    "import matplotlib.pyplot as plt\n",
    "import seaborn as sns"
   ]
  },
  {
   "cell_type": "code",
   "execution_count": 2,
   "metadata": {},
   "outputs": [],
   "source": [
    "import csv\n",
    "import time\n",
    "import requests\n",
    "from bs4 import BeautifulSoup\n",
    "import re\n",
    "import seaborn\n",
    "from nltk.tokenize import word_tokenize # or use some other tokenizer\n",
    "from prettytable import PrettyTable"
   ]
  },
  {
   "cell_type": "code",
   "execution_count": 3,
   "metadata": {},
   "outputs": [],
   "source": [
    "from nltk.corpus import names as names_ntlk\n",
    "import nltk\n",
    "import pandas as pd\n",
    "import matplotlib\n",
    "import statistics\n",
    "import scipy\n",
    "from IPython.display import display"
   ]
  },
  {
   "cell_type": "code",
   "execution_count": 4,
   "metadata": {},
   "outputs": [],
   "source": [
    "from urllib.request import urlopen\n",
    "from sklearn.preprocessing import QuantileTransformer\n",
    "%matplotlib inline\n",
    "matplotlib.style.use('ggplot')"
   ]
  },
  {
   "cell_type": "markdown",
   "metadata": {},
   "source": [
    "# 1.0 Sentiment Data\n",
    "\n",
    "Simple data of 2 features - _term_ & _score_ from Twitter. We will take a more statistical approach to fix the skewness of our data.\n",
    "This dataset is persisted at github at the lonk below"
   ]
  },
  {
   "cell_type": "code",
   "execution_count": 5,
   "metadata": {},
   "outputs": [
    {
     "data": {
      "text/html": [
       "<div>\n",
       "<style scoped>\n",
       "    .dataframe tbody tr th:only-of-type {\n",
       "        vertical-align: middle;\n",
       "    }\n",
       "\n",
       "    .dataframe tbody tr th {\n",
       "        vertical-align: top;\n",
       "    }\n",
       "\n",
       "    .dataframe thead th {\n",
       "        text-align: right;\n",
       "    }\n",
       "</style>\n",
       "<table border=\"1\" class=\"dataframe\">\n",
       "  <thead>\n",
       "    <tr style=\"text-align: right;\">\n",
       "      <th></th>\n",
       "      <th>term</th>\n",
       "      <th>score</th>\n",
       "    </tr>\n",
       "  </thead>\n",
       "  <tbody>\n",
       "    <tr>\n",
       "      <th>0</th>\n",
       "      <td>. #perfection</td>\n",
       "      <td>8.888</td>\n",
       "    </tr>\n",
       "    <tr>\n",
       "      <th>1</th>\n",
       "      <td>. #excellent</td>\n",
       "      <td>8.650</td>\n",
       "    </tr>\n",
       "    <tr>\n",
       "      <th>2</th>\n",
       "      <td>. #nice</td>\n",
       "      <td>8.421</td>\n",
       "    </tr>\n",
       "    <tr>\n",
       "      <th>3</th>\n",
       "      <td>. #fabulous</td>\n",
       "      <td>8.403</td>\n",
       "    </tr>\n",
       "    <tr>\n",
       "      <th>4</th>\n",
       "      <td>. #ideal</td>\n",
       "      <td>8.339</td>\n",
       "    </tr>\n",
       "  </tbody>\n",
       "</table>\n",
       "</div>"
      ],
      "text/plain": [
       "            term  score\n",
       "0  . #perfection  8.888\n",
       "1   . #excellent  8.650\n",
       "2        . #nice  8.421\n",
       "3    . #fabulous  8.403\n",
       "4       . #ideal  8.339"
      ]
     },
     "execution_count": 5,
     "metadata": {},
     "output_type": "execute_result"
    }
   ],
   "source": [
    "sentiment = pd.read_csv('https://raw.githubusercontent.com/rnivas2028/MSDS/Data620/Final-Project/sentiment.csv', encoding='windows-1252')\n",
    "sentiment.head()"
   ]
  },
  {
   "cell_type": "code",
   "execution_count": 6,
   "metadata": {},
   "outputs": [
    {
     "data": {
      "text/html": [
       "<div>\n",
       "<style scoped>\n",
       "    .dataframe tbody tr th:only-of-type {\n",
       "        vertical-align: middle;\n",
       "    }\n",
       "\n",
       "    .dataframe tbody tr th {\n",
       "        vertical-align: top;\n",
       "    }\n",
       "\n",
       "    .dataframe thead th {\n",
       "        text-align: right;\n",
       "    }\n",
       "</style>\n",
       "<table border=\"1\" class=\"dataframe\">\n",
       "  <thead>\n",
       "    <tr style=\"text-align: right;\">\n",
       "      <th></th>\n",
       "      <th>term</th>\n",
       "      <th>score</th>\n",
       "    </tr>\n",
       "  </thead>\n",
       "  <tbody>\n",
       "    <tr>\n",
       "      <th>369196</th>\n",
       "      <td>#rotten</td>\n",
       "      <td>-6.211</td>\n",
       "    </tr>\n",
       "    <tr>\n",
       "      <th>369197</th>\n",
       "      <td>#pathetic</td>\n",
       "      <td>-6.302</td>\n",
       "    </tr>\n",
       "    <tr>\n",
       "      <th>369198</th>\n",
       "      <td>ipad2</td>\n",
       "      <td>-6.615</td>\n",
       "    </tr>\n",
       "    <tr>\n",
       "      <th>369199</th>\n",
       "      <td>#dreadful</td>\n",
       "      <td>-6.764</td>\n",
       "    </tr>\n",
       "    <tr>\n",
       "      <th>369200</th>\n",
       "      <td>#unacceptable</td>\n",
       "      <td>-6.925</td>\n",
       "    </tr>\n",
       "  </tbody>\n",
       "</table>\n",
       "</div>"
      ],
      "text/plain": [
       "                 term  score\n",
       "369196        #rotten -6.211\n",
       "369197      #pathetic -6.302\n",
       "369198          ipad2 -6.615\n",
       "369199      #dreadful -6.764\n",
       "369200  #unacceptable -6.925"
      ]
     },
     "execution_count": 6,
     "metadata": {},
     "output_type": "execute_result"
    }
   ],
   "source": [
    "sentiment.tail()"
   ]
  },
  {
   "cell_type": "code",
   "execution_count": 7,
   "metadata": {
    "scrolled": true
   },
   "outputs": [
    {
     "name": "stdout",
     "output_type": "stream",
     "text": [
      "369199 unique words are there in this data set\n"
     ]
    }
   ],
   "source": [
    "print(sentiment.term.nunique(), 'unique words are there in this data set')"
   ]
  },
  {
   "cell_type": "markdown",
   "metadata": {},
   "source": [
    "## 1.1 Score Normalization\n",
    "\n",
    "We observed high scoring skewness in the negative direction. To minimize this problem we will use a Quantile Transformer to bring the distribution to normal as close as possible.\n"
   ]
  },
  {
   "cell_type": "code",
   "execution_count": 8,
   "metadata": {},
   "outputs": [
    {
     "data": {
      "image/png": "[encoded data removed]",
      "text/plain": [
       "<Figure size 1152x360 with 1 Axes>"
      ]
     },
     "metadata": {},
     "output_type": "display_data"
    }
   ],
   "source": [
    "from numpy import exp\n",
    "from numpy.random import randn\n",
    "from sklearn.preprocessing import QuantileTransformer\n",
    "from matplotlib import pyplot\n",
    "pyplot.figure(figsize=(16,5))\n",
    "pyplot.hist(sentiment.score, bins=25, color='grey')\n",
    "pyplot.show()"
   ]
  },
  {
   "cell_type": "markdown",
   "metadata": {},
   "source": [
    "Normalize the scores to make the interpretation and labeling statistically significant"
   ]
  },
  {
   "cell_type": "code",
   "execution_count": 9,
   "metadata": {
    "scrolled": true
   },
   "outputs": [],
   "source": [
    "sentiment['norm_score'] = QuantileTransformer(output_distribution='normal').fit_transform(sentiment.score.values.reshape(-1, 1))"
   ]
  },
  {
   "cell_type": "markdown",
   "metadata": {},
   "source": [
    "The graph below represents a normalized distribution of the scores."
   ]
  },
  {
   "cell_type": "code",
   "execution_count": 10,
   "metadata": {
    "scrolled": true
   },
   "outputs": [
    {
     "data": {
      "image/png": "[encoded data removed]",
      "text/plain": [
       "<Figure size 1152x360 with 1 Axes>"
      ]
     },
     "metadata": {},
     "output_type": "display_data"
    }
   ],
   "source": [
    "pyplot.figure(figsize=(16,5))\n",
    "pyplot.hist(sentiment.norm_score, bins=25, color='grey')\n",
    "pyplot.show()"
   ]
  },
  {
   "cell_type": "markdown",
   "metadata": {},
   "source": [
    "## 1.2 Quantile distribution based label setting\n",
    "\n",
    "We have used quantile function which is associated with a probability distribution of random variable, specifies the value of the random variable such that the probability of the variable being less than or equal to that value equals the given probability.\n",
    "\n",
    "Since the distribution has been normalized, we will now create custom labels using the 25th and 75th quantile values as our thresholds. Everything in between will be considered as a low impacting news and marked as neutral.\n",
    "Below are 25% & 75% quantile values "
   ]
  },
  {
   "cell_type": "code",
   "execution_count": 11,
   "metadata": {
    "scrolled": true
   },
   "outputs": [
    {
     "name": "stdout",
     "output_type": "stream",
     "text": [
      "0.25   -0.678433\n",
      "0.75    0.318969\n",
      "Name: norm_score, dtype: float64\n"
     ]
    }
   ],
   "source": [
    "quants = sentiment.norm_score.quantile([0.25,0.75])\n",
    "print(quants)"
   ]
  },
  {
   "cell_type": "markdown",
   "metadata": {},
   "source": [
    "#### Classify based on the quantiles - negative < 0.25 < neutral < 0.75 < positive"
   ]
  },
  {
   "cell_type": "code",
   "execution_count": 12,
   "metadata": {
    "scrolled": true
   },
   "outputs": [],
   "source": [
    "sentiment['label'] = 'neutral'\n",
    "sentiment.loc[sentiment.norm_score < quants.iloc[0], 'label'] = 'negative' \n",
    "sentiment.loc[sentiment.norm_score > quants.iloc[1], 'label']= 'positive' "
   ]
  },
  {
   "cell_type": "code",
   "execution_count": 13,
   "metadata": {
    "scrolled": false
   },
   "outputs": [
    {
     "data": {
      "text/plain": [
       "<AxesSubplot:xlabel='label'>"
      ]
     },
     "execution_count": 13,
     "metadata": {},
     "output_type": "execute_result"
    },
    {
     "data": {
      "image/png": "[encoded data removed]",
      "text/plain": [
       "<Figure size 1152x360 with 1 Axes>"
      ]
     },
     "metadata": {},
     "output_type": "display_data"
    }
   ],
   "source": [
    "plt.rcParams['figure.figsize'] = [16, 5]\n",
    "sentiment.groupby('label').count().term.plot(kind='bar', color='grey')"
   ]
  },
  {
   "cell_type": "code",
   "execution_count": 14,
   "metadata": {},
   "outputs": [
    {
     "data": {
      "text/html": [
       "<div>\n",
       "<style scoped>\n",
       "    .dataframe tbody tr th:only-of-type {\n",
       "        vertical-align: middle;\n",
       "    }\n",
       "\n",
       "    .dataframe tbody tr th {\n",
       "        vertical-align: top;\n",
       "    }\n",
       "\n",
       "    .dataframe thead th {\n",
       "        text-align: right;\n",
       "    }\n",
       "</style>\n",
       "<table border=\"1\" class=\"dataframe\">\n",
       "  <thead>\n",
       "    <tr style=\"text-align: right;\">\n",
       "      <th></th>\n",
       "      <th>term</th>\n",
       "      <th>score</th>\n",
       "      <th>norm_score</th>\n",
       "      <th>label</th>\n",
       "    </tr>\n",
       "  </thead>\n",
       "  <tbody>\n",
       "    <tr>\n",
       "      <th>0</th>\n",
       "      <td>. #perfection</td>\n",
       "      <td>8.888</td>\n",
       "      <td>5.199338</td>\n",
       "      <td>positive</td>\n",
       "    </tr>\n",
       "    <tr>\n",
       "      <th>1</th>\n",
       "      <td>. #excellent</td>\n",
       "      <td>8.650</td>\n",
       "      <td>5.199338</td>\n",
       "      <td>positive</td>\n",
       "    </tr>\n",
       "    <tr>\n",
       "      <th>2</th>\n",
       "      <td>. #nice</td>\n",
       "      <td>8.421</td>\n",
       "      <td>5.199338</td>\n",
       "      <td>positive</td>\n",
       "    </tr>\n",
       "    <tr>\n",
       "      <th>3</th>\n",
       "      <td>. #fabulous</td>\n",
       "      <td>8.403</td>\n",
       "      <td>4.405916</td>\n",
       "      <td>positive</td>\n",
       "    </tr>\n",
       "    <tr>\n",
       "      <th>4</th>\n",
       "      <td>. #ideal</td>\n",
       "      <td>8.339</td>\n",
       "      <td>4.065220</td>\n",
       "      <td>positive</td>\n",
       "    </tr>\n",
       "    <tr>\n",
       "      <th>...</th>\n",
       "      <td>...</td>\n",
       "      <td>...</td>\n",
       "      <td>...</td>\n",
       "      <td>...</td>\n",
       "    </tr>\n",
       "    <tr>\n",
       "      <th>369196</th>\n",
       "      <td>#rotten</td>\n",
       "      <td>-6.211</td>\n",
       "      <td>-3.208261</td>\n",
       "      <td>negative</td>\n",
       "    </tr>\n",
       "    <tr>\n",
       "      <th>369197</th>\n",
       "      <td>#pathetic</td>\n",
       "      <td>-6.302</td>\n",
       "      <td>-3.219230</td>\n",
       "      <td>negative</td>\n",
       "    </tr>\n",
       "    <tr>\n",
       "      <th>369198</th>\n",
       "      <td>ipad2</td>\n",
       "      <td>-6.615</td>\n",
       "      <td>-3.260235</td>\n",
       "      <td>negative</td>\n",
       "    </tr>\n",
       "    <tr>\n",
       "      <th>369199</th>\n",
       "      <td>#dreadful</td>\n",
       "      <td>-6.764</td>\n",
       "      <td>-3.281859</td>\n",
       "      <td>negative</td>\n",
       "    </tr>\n",
       "    <tr>\n",
       "      <th>369200</th>\n",
       "      <td>#unacceptable</td>\n",
       "      <td>-6.925</td>\n",
       "      <td>-3.307091</td>\n",
       "      <td>negative</td>\n",
       "    </tr>\n",
       "  </tbody>\n",
       "</table>\n",
       "<p>369201 rows × 4 columns</p>\n",
       "</div>"
      ],
      "text/plain": [
       "                 term  score  norm_score     label\n",
       "0       . #perfection  8.888    5.199338  positive\n",
       "1        . #excellent  8.650    5.199338  positive\n",
       "2             . #nice  8.421    5.199338  positive\n",
       "3         . #fabulous  8.403    4.405916  positive\n",
       "4            . #ideal  8.339    4.065220  positive\n",
       "...               ...    ...         ...       ...\n",
       "369196        #rotten -6.211   -3.208261  negative\n",
       "369197      #pathetic -6.302   -3.219230  negative\n",
       "369198          ipad2 -6.615   -3.260235  negative\n",
       "369199      #dreadful -6.764   -3.281859  negative\n",
       "369200  #unacceptable -6.925   -3.307091  negative\n",
       "\n",
       "[369201 rows x 4 columns]"
      ]
     },
     "execution_count": 14,
     "metadata": {},
     "output_type": "execute_result"
    }
   ],
   "source": [
    "sentiment"
   ]
  },
  {
   "cell_type": "markdown",
   "metadata": {},
   "source": [
    "# 2.0 Standard and Poor's 500 (S&P500)\n",
    "\n",
    "The Standard and Poor's 500, or simply the S&P 500, is a large-cap measurement stock market index made up of 500 large companies listed on stock exchanges in the United States. It is one of the most commonly followed equity indices. We have loaded S&P500 stocks data from 2018. \n",
    "\n",
    "https://seekingalpha.com/article/4185058-50-best-performing-s-and-p-500-stocks-1h-2018"
   ]
  },
  {
   "cell_type": "markdown",
   "metadata": {},
   "source": [
    "Lets 20 best performing stock portfolio and build a list of companies and their symbols  "
   ]
  },
  {
   "cell_type": "code",
   "execution_count": 15,
   "metadata": {},
   "outputs": [],
   "source": [
    " portfolio = ['ADBE', 'STX', 'APC', 'KSS', 'APP','ABMD', 'NFLX', 'TWTR', 'TRIP', 'XL', 'UA', 'ALGN', 'M', 'CMG', 'AMD', \n",
    "             'AMZN', 'FOXA', 'NTAP', 'HES', 'HES', 'IDXX']"
   ]
  },
  {
   "cell_type": "markdown",
   "metadata": {},
   "source": [
    "# 3.0 Nasdaq News Data\n",
    "\n",
    "We have downloaded 10 latest news for selected tickers and persisted these articles in a file in github"
   ]
  },
  {
   "cell_type": "code",
   "execution_count": 16,
   "metadata": {
    "scrolled": true
   },
   "outputs": [
    {
     "data": {
      "text/html": [
       "<div>\n",
       "<style scoped>\n",
       "    .dataframe tbody tr th:only-of-type {\n",
       "        vertical-align: middle;\n",
       "    }\n",
       "\n",
       "    .dataframe tbody tr th {\n",
       "        vertical-align: top;\n",
       "    }\n",
       "\n",
       "    .dataframe thead th {\n",
       "        text-align: right;\n",
       "    }\n",
       "</style>\n",
       "<table border=\"1\" class=\"dataframe\">\n",
       "  <thead>\n",
       "    <tr style=\"text-align: right;\">\n",
       "      <th></th>\n",
       "      <th>Contents</th>\n",
       "      <th>Date</th>\n",
       "      <th>Symbol</th>\n",
       "      <th>Titles</th>\n",
       "      <th>URLS</th>\n",
       "    </tr>\n",
       "  </thead>\n",
       "  <tbody>\n",
       "    <tr>\n",
       "      <th>155</th>\n",
       "      <td>For Immediate Release  Chicago, IL - July...</td>\n",
       "      <td>2018-07-03</td>\n",
       "      <td>STX</td>\n",
       "      <td>zacks industry outlook highlights netapp super...</td>\n",
       "      <td>https://www.nasdaq.com/article/zacks-industry-...</td>\n",
       "    </tr>\n",
       "    <tr>\n",
       "      <th>154</th>\n",
       "      <td>International Business Machines IBM  has ...</td>\n",
       "      <td>2018-07-03</td>\n",
       "      <td>STX</td>\n",
       "      <td>ibm to digitalize banca carige australian gove...</td>\n",
       "      <td>https://www.nasdaq.com/article/ibm-to-digitali...</td>\n",
       "    </tr>\n",
       "    <tr>\n",
       "      <th>135</th>\n",
       "      <td>Reuters  @media screen and (max-device-width: ...</td>\n",
       "      <td>2018-07-03</td>\n",
       "      <td>IDXX</td>\n",
       "      <td>us stocks on the movepepsi spero nordstrom  st...</td>\n",
       "      <td>https://www.nasdaq.com/article/us-stocks-on-th...</td>\n",
       "    </tr>\n",
       "    <tr>\n",
       "      <th>153</th>\n",
       "      <td>We're just over halfway through 2018, so it's ...</td>\n",
       "      <td>2018-07-03</td>\n",
       "      <td>STX</td>\n",
       "      <td>the 5 best sp 500 high dividend stocks of 2018...</td>\n",
       "      <td>https://www.nasdaq.com/article/the-5-best-sp-5...</td>\n",
       "    </tr>\n",
       "    <tr>\n",
       "      <th>66</th>\n",
       "      <td>We're just over halfway through 2018, so it's ...</td>\n",
       "      <td>2018-07-03</td>\n",
       "      <td>M</td>\n",
       "      <td>the 5 best sp 500 high dividend stocks of 2018...</td>\n",
       "      <td>https://www.nasdaq.com/article/the-5-best-sp-5...</td>\n",
       "    </tr>\n",
       "  </tbody>\n",
       "</table>\n",
       "</div>"
      ],
      "text/plain": [
       "                                              Contents       Date Symbol  \\\n",
       "155       For Immediate Release  Chicago, IL - July... 2018-07-03    STX   \n",
       "154       International Business Machines IBM  has ... 2018-07-03    STX   \n",
       "135  Reuters  @media screen and (max-device-width: ... 2018-07-03   IDXX   \n",
       "153  We're just over halfway through 2018, so it's ... 2018-07-03    STX   \n",
       "66   We're just over halfway through 2018, so it's ... 2018-07-03      M   \n",
       "\n",
       "                                                Titles  \\\n",
       "155  zacks industry outlook highlights netapp super...   \n",
       "154  ibm to digitalize banca carige australian gove...   \n",
       "135  us stocks on the movepepsi spero nordstrom  st...   \n",
       "153  the 5 best sp 500 high dividend stocks of 2018...   \n",
       "66   the 5 best sp 500 high dividend stocks of 2018...   \n",
       "\n",
       "                                                  URLS  \n",
       "155  https://www.nasdaq.com/article/zacks-industry-...  \n",
       "154  https://www.nasdaq.com/article/ibm-to-digitali...  \n",
       "135  https://www.nasdaq.com/article/us-stocks-on-th...  \n",
       "153  https://www.nasdaq.com/article/the-5-best-sp-5...  \n",
       "66   https://www.nasdaq.com/article/the-5-best-sp-5...  "
      ]
     },
     "execution_count": 16,
     "metadata": {},
     "output_type": "execute_result"
    }
   ],
   "source": [
    "news_df = pd.read_csv('https://raw.githubusercontent.com/rnivas2028/MSDS/Data620/Final-Project/news.csv', encoding='windows-1252')\n",
    "news_df.Date = pd.to_datetime(news_df.Date)\n",
    "news_df = news_df.sort_values('Date')\n",
    "news_df.head()"
   ]
  },
  {
   "cell_type": "markdown",
   "metadata": {},
   "source": [
    "## 3.1 Label Classification\n",
    "\n",
    "Break down the article contents into individual words/tokens"
   ]
  },
  {
   "cell_type": "code",
   "execution_count": 17,
   "metadata": {},
   "outputs": [],
   "source": [
    "news_df['tokenized'] = news_df.Contents.apply(lambda row: nltk.word_tokenize(row))"
   ]
  },
  {
   "cell_type": "code",
   "execution_count": 18,
   "metadata": {
    "scrolled": true
   },
   "outputs": [
    {
     "data": {
      "text/plain": [
       "155    [For, Immediate, Release, Chicago, ,, IL, -, J...\n",
       "154    [International, Business, Machines, IBM, has, ...\n",
       "135    [Reuters, @, media, screen, and, (, max-device...\n",
       "153    [We, 're, just, over, halfway, through, 2018, ...\n",
       "66     [We, 're, just, over, halfway, through, 2018, ...\n",
       "47     [Investors, in, Under, Armour, Inc, (, Symbol,...\n",
       "152    [What, happened, Shares, of, hard-drive, giant...\n",
       "44     [What, happened, Shares, of, Under, Armour, (,...\n",
       "46     [In, this, segment, from, the, Motley, Fool, M...\n",
       "134    [Reuters, @, media, screen, and, (, max-device...\n",
       "Name: tokenized, dtype: object"
      ]
     },
     "execution_count": 18,
     "metadata": {},
     "output_type": "execute_result"
    }
   ],
   "source": [
    "news_df.tokenized.head(10)"
   ]
  },
  {
   "cell_type": "markdown",
   "metadata": {},
   "source": [
    "Look up the above tokenized articles in the sentiment dataframe and count matched words to classify with positive or negative sentiment"
   ]
  },
  {
   "cell_type": "code",
   "execution_count": null,
   "metadata": {},
   "outputs": [],
   "source": [
    "pos = []\n",
    "neg = []\n",
    "for art in news_df.tokenized:\n",
    "    pos.append(int(sentiment[sentiment.term.isin(art)].groupby('label').term.count().positive))\n",
    "    neg.append(int(sentiment[sentiment.term.isin(art)].groupby('label').term.count().negative))"
   ]
  },
  {
   "cell_type": "markdown",
   "metadata": {},
   "source": [
    "Lets create a label based on the sum of words found in the sentiment list"
   ]
  },
  {
   "cell_type": "code",
   "execution_count": null,
   "metadata": {},
   "outputs": [],
   "source": [
    "news_df['pos'] = pos\n",
    "news_df['neg'] = neg\n",
    "news_df['score'] = news_df['pos'] - news_df['neg']\n",
    "news_df['label'] = np.where(news_df['score'] > 0, 'positive', 'negative')\n",
    "news_df.head()"
   ]
  },
  {
   "cell_type": "markdown",
   "metadata": {},
   "source": [
    "Aggregate score by symbol and article date"
   ]
  },
  {
   "cell_type": "code",
   "execution_count": null,
   "metadata": {},
   "outputs": [],
   "source": [
    "sen_news = pd.DataFrame({'score' : news_df.groupby( [\"Symbol\", \"Date\"])['score'].sum()}).reset_index()\n",
    "sen_news.head()"
   ]
  },
  {
   "cell_type": "code",
   "execution_count": null,
   "metadata": {},
   "outputs": [],
   "source": [
    "sen_news.tail()"
   ]
  },
  {
   "cell_type": "markdown",
   "metadata": {},
   "source": [
    "# 4.0 Yahoo Stock Price"
   ]
  },
  {
   "cell_type": "markdown",
   "metadata": {},
   "source": [
    "We have downloaded price data of the tickers and persisted these articles in a file in github. This price data is from 2018 with Open, High, Low, Close,Adj Close price "
   ]
  },
  {
   "cell_type": "code",
   "execution_count": null,
   "metadata": {},
   "outputs": [],
   "source": [
    "prices = pd.read_csv('https://raw.githubusercontent.com/rnivas2028/MSDS/Data620/Final-Project/prices.csv')\n",
    "prices.Date = pd.to_datetime(prices.Date)\n",
    "prices = prices.sort_values('Date')\n",
    "prices.head()"
   ]
  },
  {
   "cell_type": "markdown",
   "metadata": {},
   "source": [
    "Calculate a new feature change to indicate the difference between opening price and closing price"
   ]
  },
  {
   "cell_type": "code",
   "execution_count": null,
   "metadata": {
    "scrolled": false
   },
   "outputs": [],
   "source": [
    "prices['change'] = round(prices['Close'] - prices['Open'],2)\n",
    "prices.head()"
   ]
  },
  {
   "cell_type": "code",
   "execution_count": null,
   "metadata": {},
   "outputs": [],
   "source": [
    "prices.tail()"
   ]
  },
  {
   "cell_type": "markdown",
   "metadata": {},
   "source": [
    "# 5.0 Merge Sentiment labeled news data with stock price"
   ]
  },
  {
   "cell_type": "code",
   "execution_count": null,
   "metadata": {},
   "outputs": [],
   "source": [
    "stock_sentiment_labeled = sen_news.merge(prices, left_on=['Symbol', 'Date'], right_on=['Symbol', 'Date'], how='outer')\n",
    "stock_sentiment_labeled =  stock_sentiment_labeled.dropna(subset=['score'], axis='rows')"
   ]
  },
  {
   "cell_type": "code",
   "execution_count": null,
   "metadata": {},
   "outputs": [],
   "source": [
    "stock_sentiment_labeled.head()"
   ]
  },
  {
   "cell_type": "code",
   "execution_count": null,
   "metadata": {},
   "outputs": [],
   "source": [
    "stock_sentiment_labeled.tail()"
   ]
  },
  {
   "cell_type": "markdown",
   "metadata": {},
   "source": [
    "## 5.1 Price change\n",
    "Lets list down the price changes for a given ticker"
   ]
  },
  {
   "cell_type": "code",
   "execution_count": null,
   "metadata": {
    "scrolled": true
   },
   "outputs": [],
   "source": [
    "stock_sentiment_labeled[stock_sentiment_labeled.Symbol == 'ABMD'][['Date', 'score', 'Open','High', 'Low','change']]"
   ]
  },
  {
   "cell_type": "code",
   "execution_count": null,
   "metadata": {},
   "outputs": [],
   "source": [
    "stock_sentiment_labeled[stock_sentiment_labeled.Symbol == 'STX'][['Date', 'score', 'Open','High', 'Low','change']]"
   ]
  },
  {
   "cell_type": "code",
   "execution_count": null,
   "metadata": {},
   "outputs": [],
   "source": [
    "stock_sentiment_labeled[stock_sentiment_labeled.Symbol == 'AMD'][['Date', 'score', 'Open','High', 'Low','change']]"
   ]
  },
  {
   "cell_type": "code",
   "execution_count": null,
   "metadata": {},
   "outputs": [],
   "source": [
    "stock_sentiment_labeled[stock_sentiment_labeled.Symbol == 'UA'][['Date', 'score', 'Open','High', 'Low','change']]"
   ]
  },
  {
   "cell_type": "code",
   "execution_count": null,
   "metadata": {},
   "outputs": [],
   "source": [
    "stock_sentiment_labeled[stock_sentiment_labeled.Symbol == 'TWTR'][['Date', 'score', 'Open','High', 'Low','change']]"
   ]
  },
  {
   "cell_type": "markdown",
   "metadata": {},
   "source": [
    "# 6.0 Plot Sentiment & Price Time Series"
   ]
  },
  {
   "cell_type": "markdown",
   "metadata": {
    "scrolled": true
   },
   "source": [
    "Following method is developed to plot Sentiment & Price Time Series data"
   ]
  },
  {
   "cell_type": "code",
   "execution_count": null,
   "metadata": {
    "scrolled": false
   },
   "outputs": [],
   "source": [
    "def plot_sentiments(symbol):\n",
    "    plt.figure(figsize=(16,8))\n",
    "    x = stock_sentiment_labeled[stock_sentiment_labeled.Symbol == symbol].Date\n",
    "    y1 = stock_sentiment_labeled[stock_sentiment_labeled.Symbol == symbol].change\n",
    "    y2 = stock_sentiment_labeled[stock_sentiment_labeled.Symbol == symbol].score\n",
    "    plt.subplot(2, 1, 1)\n",
    "    plt.plot(x, y1,  color='blue')\n",
    "    plt.title('Price Change vs Sentiment')\n",
    "    plt.ylabel('Stock Price Change')\n",
    "    plt.subplot(2, 1, 2)\n",
    "    plt.plot(x, y2,color='green')\n",
    "    plt.xlabel('Date')\n",
    "    plt.ylabel('Sentiment')\n",
    "    plt.show()\n",
    "    plt.figure(figsize=(16,4))\n",
    "    ax = sns.regplot(x='score', y='change', color='teal', data=stock_sentiment_labeled[stock_sentiment_labeled.Symbol == symbol], x_estimator=np.mean)\n",
    "    plt.xlabel('News Sentiment Score')\n",
    "    plt.ylabel('Open - Close: Price Change')\n",
    "    plt.title('Price Change vs Sentiment Score')"
   ]
  },
  {
   "cell_type": "code",
   "execution_count": null,
   "metadata": {},
   "outputs": [],
   "source": [
    "plot_sentiments('ABMD')"
   ]
  },
  {
   "cell_type": "code",
   "execution_count": null,
   "metadata": {},
   "outputs": [],
   "source": [
    "plot_sentiments('STX')"
   ]
  },
  {
   "cell_type": "code",
   "execution_count": null,
   "metadata": {},
   "outputs": [],
   "source": [
    "plot_sentiments('AMD')"
   ]
  },
  {
   "cell_type": "code",
   "execution_count": null,
   "metadata": {},
   "outputs": [],
   "source": [
    "plot_sentiments('UA')"
   ]
  },
  {
   "cell_type": "markdown",
   "metadata": {},
   "source": [
    "# 7.0 Portfolio Networkx "
   ]
  },
  {
   "cell_type": "markdown",
   "metadata": {},
   "source": [
    "We have visualised correlations between stocks. As an investor, we are interested in diversifying risk by selecting different types of them. Therefore we want to visualise which stocks behave similarly (positive correlations) or very differently (negative correlations). Using a dataset with the prices of selected stocks over time, we’ll create a graph object to analyze.\n",
    "We are further checking the direction of stock shares or index to find out any opportunity of investment, like buy stocks in positive intention or sold stocks in negative intention."
   ]
  },
  {
   "cell_type": "markdown",
   "metadata": {},
   "source": [
    "#### Networkx Graph\n",
    "We will use stock as one set of nodes and direction as the other. This should lead us to a bipartite graph.\n",
    "In addition, there is a weight associated with every edge. The weight represents the lastsale price of stock to create multiple islands."
   ]
  },
  {
   "cell_type": "code",
   "execution_count": null,
   "metadata": {},
   "outputs": [],
   "source": [
    "tickers = pd.read_csv(\"https://raw.githubusercontent.com/rnivas2028/MSDS/Data620/Final-Project/ticker.csv\")\n",
    "tickers.head()"
   ]
  },
  {
   "cell_type": "code",
   "execution_count": null,
   "metadata": {},
   "outputs": [],
   "source": [
    "tickers.tail()"
   ]
  },
  {
   "cell_type": "markdown",
   "metadata": {},
   "source": [
    "## 7.1 Bipartite Graph\n",
    "Networkx graph with two sets of bipartite nodes (tickers and sentiments=negative and positive)"
   ]
  },
  {
   "cell_type": "code",
   "execution_count": null,
   "metadata": {},
   "outputs": [],
   "source": [
    "G = nx.Graph()\n",
    "G.add_nodes_from(tickers['stock'], bipartite=0)\n",
    "G.add_nodes_from(tickers['direction'], bipartite=1)\n",
    "for i in range(len(tickers)):\n",
    "    G.add_edge(tickers.iloc[i][0], tickers.iloc[i][1], weight=1)\n",
    "print(nx.info(G))"
   ]
  },
  {
   "cell_type": "code",
   "execution_count": null,
   "metadata": {},
   "outputs": [],
   "source": [
    "# Checking the stucture of the graph\n",
    "nx.is_connected(G), nx.is_bipartite(G)"
   ]
  },
  {
   "cell_type": "code",
   "execution_count": null,
   "metadata": {},
   "outputs": [],
   "source": [
    "nx.draw(G,with_labels=False)"
   ]
  },
  {
   "cell_type": "code",
   "execution_count": null,
   "metadata": {},
   "outputs": [],
   "source": [
    "weighted_edges = tickers[['stock', 'direction','LastSale']].T.apply(tuple).values.tolist()\n",
    "records = tickers.to_records(index=False)\n",
    "result = list(records)\n",
    "G.add_weighted_edges_from(result)\n",
    "nx.draw(G,with_labels=True)"
   ]
  },
  {
   "cell_type": "code",
   "execution_count": null,
   "metadata": {},
   "outputs": [],
   "source": [
    "stock_nodes = set(n for n,d in G.nodes(data=True) if d['bipartite']==0)\n",
    "direction_nodes = set(G) - stock_nodes\n",
    "direction_nodes"
   ]
  },
  {
   "cell_type": "code",
   "execution_count": null,
   "metadata": {},
   "outputs": [],
   "source": [
    "# Generaing a list of top_nodes(tickers) and bottom_nodes(sentiments)\n",
    "sentiments_nodes = set(n for n,d in G.nodes(data=True) if d['bipartite']==1)\n",
    "ticker_nodes = set(G) - sentiments_nodes"
   ]
  },
  {
   "cell_type": "markdown",
   "metadata": {},
   "source": [
    "## 7.2. Centrality Measures\n",
    "In the table below we take the bipartite weighted graph and examine centrality measures. "
   ]
  },
  {
   "cell_type": "code",
   "execution_count": null,
   "metadata": {},
   "outputs": [],
   "source": [
    "def PrintTable(graph):\n",
    "   degree = nx.degree(graph)\n",
    "   degree_centrality = nx.degree_centrality(graph)\n",
    "   betweenness_centrality = nx.betweenness_centrality(graph)\n",
    "   closeness_centrality = nx.closeness_centrality(graph)\n",
    "   eigenvector_centrality = nx.eigenvector_centrality_numpy(graph)\n",
    "   table = [[name,degree[name], round(degree_centrality[name],6), round(betweenness_centrality[name],6),\n",
    "             round(closeness_centrality[name],6), round(eigenvector_centrality[name],6)] for name in graph.nodes()]\n",
    "   table = sorted(table,key = lambda x: -x[2])[:10]\n",
    "   printTable = PrettyTable(['Subject','Degree','Degree Centrality','Betweenness','Closeness','Eigenvector'])\n",
    "   for i in range(0, len(table)):\n",
    "       printTable.add_row(table[i])\n",
    "   return printTable"
   ]
  },
  {
   "cell_type": "code",
   "execution_count": null,
   "metadata": {},
   "outputs": [],
   "source": [
    "#print(PrintTable(G))"
   ]
  },
  {
   "cell_type": "code",
   "execution_count": null,
   "metadata": {},
   "outputs": [],
   "source": [
    "projected_graph_sentiments = nx.bipartite.weighted_projected_graph(G, sentiments_nodes)\n",
    "connected_component_subgraphs = (projected_graph_sentiments.subgraph(c) for c in nx.connected_components(projected_graph_sentiments))\n",
    "connected_component_sentiments = max(connected_component_subgraphs, key=len)\n",
    "projected_graph_sentiments.nodes()"
   ]
  },
  {
   "cell_type": "code",
   "execution_count": null,
   "metadata": {},
   "outputs": [],
   "source": [
    "#print(PrintTable(connected_component_sentiments))"
   ]
  },
  {
   "cell_type": "code",
   "execution_count": null,
   "metadata": {},
   "outputs": [],
   "source": [
    "projected_graph_ticker = nx.bipartite.weighted_projected_graph(G, ticker_nodes)\n",
    "connected_component_subgraphs = (projected_graph_ticker.subgraph(c) for c in nx.connected_components(projected_graph_ticker))\n",
    "connected_component_ticker = max(connected_component_subgraphs, key=len)"
   ]
  },
  {
   "cell_type": "code",
   "execution_count": null,
   "metadata": {},
   "outputs": [],
   "source": [
    "print(PrintTable(connected_component_ticker))"
   ]
  },
  {
   "cell_type": "code",
   "execution_count": null,
   "metadata": {},
   "outputs": [],
   "source": [
    "stock_nodes = set(n for n,d in G.nodes(data=True) if d['bipartite']==0)\n",
    "connected_component_stocks = nx.bipartite.weighted_projected_graph(G, stock_nodes)"
   ]
  },
  {
   "cell_type": "markdown",
   "metadata": {},
   "source": [
    "## 7.3 Island method\n",
    "We have used tthe method below to use island method for further analysis"
   ]
  },
  {
   "cell_type": "code",
   "execution_count": null,
   "metadata": {},
   "outputs": [],
   "source": [
    "## Implementing the Island Method to look for important subgroups. ##\n",
    "def trim_edges(g, weight = 1):\n",
    "    # Implements a trimming of the graph edges for the Island Analysis\n",
    "    island_graph = nx.Graph()\n",
    "    for f, to, edata in g.edges(data=True):\n",
    "        if edata['weight'] > weight:\n",
    "            island_graph.add_edge(f,to)\n",
    "    return island_graph\n",
    "\n",
    "    # Iterates through the graph removing edges and returning the number of edges removed and\n",
    "    #  the trimmed graph\n",
    "def island_method(g, iterations=5, weight=1):\n",
    "    weights = [edata['weight'] for f, to, edata in g.edges(data=True)]\n",
    "    weights\n",
    "    mn=int(min(weights)) if int(min(weights)) > weight else weight\n",
    "    mx=int(max(weights))\n",
    "    #compute the size of the step, so we get a reasonable step in iterations\n",
    "    step=int((mx-mn)/(iterations))\n",
    "    return [[threshold, trim_edges(g, threshold)] for threshold in range(mn,mx,step)]"
   ]
  },
  {
   "cell_type": "markdown",
   "metadata": {},
   "source": [
    "A threshold value of 1 results in a network of 829 stocks and 2 connected components. As we increase the threshold, number of the stocks are filters and connected network still remain 2. At maximum threashold network left with 2 stocks and 1 connected components"
   ]
  },
  {
   "cell_type": "code",
   "execution_count": null,
   "metadata": {},
   "outputs": [],
   "source": [
    "islands = island_method(G, iterations = 5)\n",
    "for island in islands:\n",
    "    print('   %d               %2d                   %2d' \n",
    "          %(island[0], len(island[1]), len(list(nx.connected_components(island[1])))))"
   ]
  },
  {
   "cell_type": "code",
   "execution_count": null,
   "metadata": {},
   "outputs": [],
   "source": [
    "def plot_network(threshold):\n",
    "    ## Plotting created by the island analysis\n",
    "    pc = trim_edges(G, threshold)\n",
    "    from nxviz import CircosPlot\n",
    "    nx.draw(pc,with_labels=True,alpha=.50, font_size=18)"
   ]
  },
  {
   "cell_type": "code",
   "execution_count": null,
   "metadata": {},
   "outputs": [],
   "source": [
    "plot_network(1)"
   ]
  },
  {
   "cell_type": "code",
   "execution_count": null,
   "metadata": {},
   "outputs": [],
   "source": [
    "plot_network(404)"
   ]
  },
  {
   "cell_type": "code",
   "execution_count": null,
   "metadata": {},
   "outputs": [],
   "source": [
    "plot_network(807)"
   ]
  },
  {
   "cell_type": "code",
   "execution_count": null,
   "metadata": {},
   "outputs": [],
   "source": [
    "plot_network(1210)"
   ]
  },
  {
   "cell_type": "code",
   "execution_count": null,
   "metadata": {},
   "outputs": [],
   "source": [
    "plot_network(2016)"
   ]
  },
  {
   "cell_type": "markdown",
   "metadata": {},
   "source": [
    "## 7.4 Examining Nodes\n",
    "Now that we have our graph constructed we can examine the two types of nodes. Notice that the type of crime isn't provided; there is simply a number value given to each crime event."
   ]
  },
  {
   "cell_type": "markdown",
   "metadata": {},
   "source": [
    "It has 6 iterations on the biggest connected graph from the entire dataset. Although it is only positive and negative of direction nodes, but it is a good way to show the edge weight by lastsale price. "
   ]
  },
  {
   "cell_type": "code",
   "execution_count": null,
   "metadata": {},
   "outputs": [],
   "source": [
    "connected_components_negative = sorted(nx.connected_components(G), key = len, reverse=True)[1]\n",
    "print(len(connected_components_negative), 'Stocke with Negative sentiments')"
   ]
  },
  {
   "cell_type": "code",
   "execution_count": null,
   "metadata": {},
   "outputs": [],
   "source": [
    "connected_components_positive = sorted(nx.connected_components(G), key = len, reverse=True)[0]\n",
    "print(len(connected_components_positive), 'Stocke with Positive sentiments')"
   ]
  },
  {
   "cell_type": "markdown",
   "metadata": {},
   "source": [
    "### 7.4.1 First Island Visualization\n",
    "For the weight of all range stock price, it has 521 stock shares with one positive direction."
   ]
  },
  {
   "cell_type": "code",
   "execution_count": null,
   "metadata": {},
   "outputs": [],
   "source": [
    "node_colors = []\n",
    "for n in islands[0][1].nodes(data=True):\n",
    "    if n[0] in stock_nodes:\n",
    "        node_colors.append('red')\n",
    "    else:\n",
    "        node_colors.append('grey')"
   ]
  },
  {
   "cell_type": "code",
   "execution_count": null,
   "metadata": {},
   "outputs": [],
   "source": [
    "plt.rcParams['figure.figsize'] = [16, 12]\n",
    "pos = nx.spring_layout(islands[0][1], k=2) # k=2 values helps spread the nodes\n",
    "# Degree calculations to denote the size of nodes\n",
    "degree = dict(nx.degree(islands[0][1]))\n",
    "degree_graph = nx.draw_networkx(islands[0][1], \n",
    "                                pos=pos,\n",
    "                                node_color=node_colors,\n",
    "                                node_size=np.multiply(list(degree.values()), 400), # multiply degree by 400 for better resolution\n",
    "                                with_labels=True, \n",
    "                                width=0.2)\n",
    "# Remove axis\n",
    "limits=plt.axis('off')"
   ]
  },
  {
   "cell_type": "markdown",
   "metadata": {},
   "source": [
    "### 7.4.2 Second Island Visualization\n",
    "For the weight of stock price more than 404, it has 7 stock with one positive direction."
   ]
  },
  {
   "cell_type": "code",
   "execution_count": null,
   "metadata": {},
   "outputs": [],
   "source": [
    "# Create a list of colors based on the node name\n",
    "\n",
    "node_colors = []\n",
    "for n in islands[1][1].nodes(data=True):\n",
    "    if n[0] in stock_nodes:\n",
    "        node_colors.append('#bf8a40')\n",
    "    else:\n",
    "        node_colors.append('#40bf80')"
   ]
  },
  {
   "cell_type": "code",
   "execution_count": null,
   "metadata": {},
   "outputs": [],
   "source": [
    "plt.rcParams['figure.figsize'] = [16, 12]\n",
    "\n",
    "pos = nx.spring_layout(islands[1][1], k=1) # k=2 values helps spread the nodes\n",
    "\n",
    "# Degree calculations to denote the size of nodes\n",
    "degree = dict(nx.degree(islands[1][1]))\n",
    "\n",
    "\n",
    "degree_graph = nx.draw_networkx(islands[1][1], \n",
    "                                pos=pos,\n",
    "                                node_color=node_colors,\n",
    "                                node_size=np.multiply(list(degree.values()), 400), # multiply degree by 400 for better resolution\n",
    "                                with_labels=True, \n",
    "                                width=0.2)\n",
    "\n",
    "# Remove axis\n",
    "limits=plt.axis('off')"
   ]
  },
  {
   "cell_type": "markdown",
   "metadata": {},
   "source": [
    "For the second island visualization, it has 7 stock shares nodes with one positive direction node, and the closeness nodes with central positive node show the weight of price value, like amazon and google are highest value of price comparing with all selected stocks."
   ]
  },
  {
   "cell_type": "markdown",
   "metadata": {},
   "source": [
    "# 8.0 Conclusion\n",
    "- Already, we know the evaluation of the return on investment in the share market through any one of the traditional techniques \n",
    "\n",
    "- We have used the result of sentiment dataset to create the weighted network, according to the weight and positive direction, we can make our investing decision for the price weighting, like closeness central nodes\n",
    "\n",
    "- We should choose the positive direction of stock shares with proper price for our investiment.\n",
    "\n",
    "- The return on investment in share market is always uncertain and ambiguity in nature, so that no traditional techniques will give the accurate or appropriate solution"
   ]
  },
  {
   "cell_type": "code",
   "execution_count": null,
   "metadata": {},
   "outputs": [],
   "source": [
    "from IPython.display import YouTubeVideo\n",
    "YouTubeVideo('https://youtu.be/QO7_IWZ4FhM')"
   ]
  },
  {
   "cell_type": "markdown",
   "metadata": {},
   "source": [
    "# 9.0 References\n",
    "[1] Networkx documentation: https://networkx.github.io/documentation/stable/reference/drawing.html \\\n",
    "[2] Fruchterman, T.M. and Reingold, E.M., 1991. Graph drawing by force-directed placement. 1991. Zitiert auf den, p.37.\\\n",
    "[3] Mantegna, R.N., 1999. The European Physical Journal B-Condensed Matter and Complex Systems, 11(1), pp.193-197.\\\n",
    "[4] Financial Network Analytics: https://www.fna.fi/ \\\n",
    "[5] Plotly: https://plot.ly/d3-js-for-python-and-pandas-charts/ \\\n",
    "[6] Wenyue Sun, Chuan Tian, Guang Yang, 2015, Network Analysis of the Stock Market \\\n",
    "[7] Sentiments data : www.twittter.com \\\n",
    "[8] News articles data : www.nasdaq.com \\\n",
    "[9] Price data : www.yahoo.com"
   ]
  }
 ],
 "metadata": {
  "kernelspec": {
   "display_name": "Python 3",
   "language": "python",
   "name": "python3"
  },
  "language_info": {
   "codemirror_mode": {
    "name": "ipython",
    "version": 3
   },
   "file_extension": ".py",
   "mimetype": "text/x-python",
   "name": "python",
   "nbconvert_exporter": "python",
   "pygments_lexer": "ipython3",
   "version": "3.7.10"
  },
  "toc": {
   "base_numbering": 1,
   "nav_menu": {},
   "number_sections": true,
   "sideBar": true,
   "skip_h1_title": false,
   "title_cell": "Table of Contents",
   "title_sidebar": "Contents",
   "toc_cell": false,
   "toc_position": {},
   "toc_section_display": true,
   "toc_window_display": false
  }
 },
 "nbformat": 4,
 "nbformat_minor": 2
}

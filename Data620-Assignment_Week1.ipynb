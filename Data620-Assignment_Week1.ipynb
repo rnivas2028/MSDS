{
 "cells": [
  {
   "cell_type": "code",
   "execution_count": 1,
   "id": "77ac899e",
   "metadata": {},
   "outputs": [],
   "source": [
    "# Data 620 assignment 1\n",
    "\n",
    "## This program will design simple graph of 10 nodes "
   ]
  },
  {
   "cell_type": "code",
   "execution_count": 2,
   "id": "2cf23d58",
   "metadata": {
    "scrolled": true,
    "tags": []
   },
   "outputs": [
    {
     "name": "stderr",
     "output_type": "stream",
     "text": [
      "\n",
      "Bad key \"text.kerning_factor\" on line 4 in\n",
      "C:\\Users\\ramni\\.conda\\envs\\sps620envRS\\lib\\site-packages\\matplotlib\\mpl-data\\stylelib\\_classic_test_patch.mplstyle.\n",
      "You probably need to get an updated matplotlibrc file from\n",
      "http://github.com/matplotlib/matplotlib/blob/master/matplotlibrc.template\n",
      "or from the matplotlib source distribution\n"
     ]
    }
   ],
   "source": [
    "# Importing the required libraries\n",
    "\n",
    "import networkx as nx\n",
    "import matplotlib.pyplot as plt\n",
    " \n",
    "\n",
    "G=nx.Graph()"
   ]
  },
  {
   "cell_type": "code",
   "execution_count": 3,
   "id": "98bd03be",
   "metadata": {},
   "outputs": [],
   "source": [
    "G.clear()\n",
    "\n",
    "# Adding the nodes per the assignment instructions\n",
    "\n",
    "G.add_nodes_from ([\"Andre\",\"Beverly\",\"Carol\",\"Diane\",\"Ed\",\"Fernando\",\"Garth\",\"Heather\",\"Ike\",\"Jane\"])\n",
    "\n",
    "\n",
    "# Adding the edges per the assignment instructions\n",
    "\n",
    "G.add_edge(\"Jane\",\"Ike\")\n",
    "G.add_edge(\"Ike\",\"Heather\")\n",
    "\n",
    "G.add_edge(\"Heather\",\"Fernando\")\n",
    "G.add_edge(\"Heather\",\"Garth\")\n",
    "\n",
    "G.add_edge(\"Fernando\",\"Garth\")\n",
    "G.add_edge(\"Fernando\",\"Carol\")\n",
    "G.add_edge(\"Fernando\",\"Andre\")\n",
    "G.add_edge(\"Fernando\",\"Diane\")\n",
    "\n",
    "G.add_edge(\"Garth\",\"Diane\")\n",
    "G.add_edge(\"Garth\",\"Beverly\")\n",
    "G.add_edge(\"Garth\",\"Ed\")\n",
    "\n",
    "G.add_edge(\"Diane\",\"Beverly\")\n",
    "G.add_edge(\"Diane\",\"Andre\")\n",
    "G.add_edge(\"Diane\", \"Ed\")\n",
    "G.add_edge(\"Diane\", \"Carol\")\n",
    "\n",
    "G.add_edge(\"Ed\",\"Beverly\")\n",
    "G.add_edge(\"Carol\",\"Andre\")\n",
    "G.add_edge(\"Andre\", \"Beverly\")\n",
    "\n",
    "\n",
    "\n",
    "# Set node positions explicitly \n",
    "pos={'Andre':(0,1),\n",
    "     'Beverly':(0,-1),\n",
    "     'Carol':(1,2),\n",
    "     'Diane':(1,0),\n",
    "     'Ed':(1,-2),\n",
    "     'Ike':(4,0),\n",
    "     'Garth':(2,-1),\n",
    "     'Jane':(5,0),\n",
    "     'Fernando':(2,1),\n",
    "   'Heather':(3,0)}"
   ]
  },
  {
   "cell_type": "code",
   "execution_count": 4,
   "id": "687697bf",
   "metadata": {},
   "outputs": [
    {
     "name": "stderr",
     "output_type": "stream",
     "text": [
      "C:\\Users\\ramni\\.conda\\envs\\sps620envRS\\lib\\site-packages\\networkx\\drawing\\nx_pylab.py:522: MatplotlibDeprecationWarning: The is_string_like function was deprecated in version 2.1.\n",
      "  if not cb.is_string_like(edge_color) \\\n",
      "C:\\Users\\ramni\\.conda\\envs\\sps620envRS\\lib\\site-packages\\networkx\\drawing\\nx_pylab.py:543: MatplotlibDeprecationWarning: The is_string_like function was deprecated in version 2.1.\n",
      "  if cb.is_string_like(edge_color) or len(edge_color) == 1:\n",
      "C:\\Users\\ramni\\.conda\\envs\\sps620envRS\\lib\\site-packages\\networkx\\drawing\\nx_pylab.py:724: MatplotlibDeprecationWarning: The is_string_like function was deprecated in version 2.1.\n",
      "  if not cb.is_string_like(label):\n"
     ]
    },
    {
     "data": {
      "text/plain": [
       "(-0.525, 5.525, -2.4200000000000004, 2.4200000000000004)"
      ]
     },
     "execution_count": 4,
     "metadata": {},
     "output_type": "execute_result"
    },
    {
     "data": {
      "image/png": "[encoded data removed]",
      "text/plain": [
       "<Figure size 432x288 with 1 Axes>"
      ]
     },
     "metadata": {
      "needs_background": "light"
     },
     "output_type": "display_data"
    }
   ],
   "source": [
    "#nx.draw(G, with_labels = True)\n",
    "#plt.show()\n",
    "\n",
    "# nodes\n",
    "#nx.draw_networkx_nodes(G,pos,node_size=800, node_color='c')\n",
    "nx.draw_networkx_nodes(G,pos,e_color='c')\n",
    "\n",
    "# edges\n",
    "nx.draw_networkx_edges(G,pos,a=0.5,width=6)\n",
    "\n",
    "# labels\n",
    "nx.draw_networkx_labels(G,pos,ont_size=15,font_family='sans-serif')\n",
    "\n",
    "plt.axis('off')\n",
    "plt.show() # display\n"
   ]
  },
  {
   "cell_type": "code",
   "execution_count": 5,
   "id": "cf2dde45",
   "metadata": {},
   "outputs": [
    {
     "name": "stdout",
     "output_type": "stream",
     "text": [
      "Name: \n",
      "Type: Graph\n",
      "Number of nodes: 10\n",
      "Number of edges: 18\n",
      "Average degree:   3.6000\n"
     ]
    }
   ],
   "source": [
    "print (nx.info(G))"
   ]
  }
 ],
 "metadata": {
  "kernelspec": {
   "display_name": "Python 3",
   "language": "python",
   "name": "python3"
  },
  "language_info": {
   "codemirror_mode": {
    "name": "ipython",
    "version": 3
   },
   "file_extension": ".py",
   "mimetype": "text/x-python",
   "name": "python",
   "nbconvert_exporter": "python",
   "pygments_lexer": "ipython3",
   "version": "3.7.10"
  }
 },
 "nbformat": 4,
 "nbformat_minor": 5
}
